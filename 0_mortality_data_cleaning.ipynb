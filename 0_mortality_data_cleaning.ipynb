{
 "cells": [
  {
   "cell_type": "markdown",
   "id": "311a25ff-57a0-4549-857f-367f8c37647f",
   "metadata": {
    "jp-MarkdownHeadingCollapsed": true
   },
   "source": [
    "### Renaming incorrect ICD-10 Column Name in 2012_data.csv"
   ]
  },
  {
   "cell_type": "code",
   "execution_count": 16,
   "id": "def46fb8-ec09-41ff-afea-b27f50ebb82d",
   "metadata": {},
   "outputs": [],
   "source": [
    "df = pd.read_csv(\"2012_data.csv\", low_memory=False)\n",
    "df.rename(columns={\"icd_code_10\": \"icd_code_10th_revision\"}, inplace=True)\n",
    "df.to_csv(\"2012_data.csv\", index=False)"
   ]
  },
  {
   "cell_type": "markdown",
   "id": "1cb79d68-41b2-4dbd-850e-444552a07b1d",
   "metadata": {
    "jp-MarkdownHeadingCollapsed": true
   },
   "source": [
    "### Selecting Rows w/ Cause of Death as Heart Disease (HD) I00-I09, I11, I13, I20-I51"
   ]
  },
  {
   "cell_type": "code",
   "execution_count": 14,
   "id": "f42348cf-ce38-467e-bc5b-8afaa2035bc4",
   "metadata": {},
   "outputs": [],
   "source": [
    "def is_heart_disease(code):\n",
    "    if pd.isna(code):\n",
    "        return False\n",
    "        \n",
    "    code_str = str(code)\n",
    "    \n",
    "    if not code_str.startswith(\"I\"):\n",
    "        return False\n",
    "        \n",
    "    numeric_part = code_str[1:3]\n",
    "\n",
    "    if not numeric_part.isdigit():\n",
    "        return False\n",
    "        \n",
    "    numeric_value = int(numeric_part)\n",
    "    \n",
    "    return (0 <= numeric_value <= 9 or \n",
    "            numeric_value == 11 or \n",
    "            numeric_value == 13 or \n",
    "            20 <= numeric_value <= 51)\n",
    "\n",
    "for year in range(2005, 2016):\n",
    "    file_name = f\"{year}_data.csv\"\n",
    "    df = pd.read_csv(file_name, low_memory=False)\n",
    "    df.drop_duplicates()\n",
    "    heart_disease_df = df[df[\"icd_code_10th_revision\"].apply(is_heart_disease)]\n",
    "    #print(f\"Found {len(heart_disease_df)} rows with Heart Disease in {file_name}\")\n",
    "    output_file = f'heart_disease_{year}.csv'\n",
    "    heart_disease_df.to_csv(output_file, index=False)\n"
   ]
  },
  {
   "cell_type": "markdown",
   "id": "f628d46a-8ad5-47f6-9ee5-242e3f63d095",
   "metadata": {
    "jp-MarkdownHeadingCollapsed": true
   },
   "source": [
    "### Removing Irrelevant Columns "
   ]
  },
  {
   "cell_type": "code",
   "execution_count": 15,
   "id": "6642ab16-e3ff-4ff3-8d1f-db31b6b1d782",
   "metadata": {},
   "outputs": [],
   "source": [
    "for year in range(2005, 2016):\n",
    "    file_name = f\"heart_disease_{year}.csv\"\n",
    "    df = pd.read_csv(file_name, low_memory=False)\n",
    "    df = df.drop([\"resident_status\", \n",
    "                  \"education_1989_revision\", \n",
    "                  \"education_2003_revision\",\n",
    "                 \"education_reporting_flag\",\n",
    "                 \"age_substitution_flag\",\n",
    "                 \"age_recode_52\",\n",
    "                  \"age_recode_52\",\n",
    "                  \"age_recode_27\",\n",
    "                  \"age_recode_12\",\n",
    "                  \"infant_age_recode_22\",\n",
    "                  \"marital_status\",\n",
    "                  \"day_of_week_of_death\",\n",
    "                  \"injury_at_work\",\n",
    "                  \"manner_of_death\",\n",
    "                  \"autopsy\",\n",
    "                  \"activity_code\",\n",
    "                  \"place_of_injury_for_causes_w00_y34_except_y06_and_y07_\",\n",
    "                  \"358_cause_recode\",\n",
    "                  \"113_cause_recode\",\n",
    "                  \"130_infant_cause_recode\",\n",
    "                  \"39_cause_recode\",\n",
    "                  \"number_of_entity_axis_conditions\",\n",
    "                  \"bridged_race_flag\",\n",
    "                  \"race_imputation_flag\",\n",
    "                  \"race_recode_3\",\n",
    "                  \"hispanic_origin\",\n",
    "                  \"hispanic_originrace_recode\",\n",
    "                  \"race\",\n",
    "                  \"number_of_record_axis_conditions\",\n",
    "                  \"method_of_disposition\",\n",
    "                  \"detail_age_type\"], axis=1)\n",
    "    entity_columns = [f\"entity_condition_{x}\" for x in range(1, 21)]\n",
    "    df = df.drop(columns = entity_columns)\n",
    "    df.to_csv(file_name, index=False)\n"
   ]
  },
  {
   "cell_type": "markdown",
   "id": "81147c61-542b-478a-86e5-bb589447340c",
   "metadata": {
    "jp-MarkdownHeadingCollapsed": true
   },
   "source": [
    "### Merging .CSVs"
   ]
  },
  {
   "cell_type": "code",
   "execution_count": 16,
   "id": "84cdd681-69d3-4d7e-aa39-4d8f5f7ee50f",
   "metadata": {
    "scrolled": true
   },
   "outputs": [],
   "source": [
    "csv_files = []\n",
    "for year in range(2005, 2016):\n",
    "    file_name = f\"heart_disease_{year}.csv\"\n",
    "    csv_files.append(file_name)\n",
    "\n",
    "new_df = []\n",
    "\n",
    "for csv in csv_files:\n",
    "    df = pd.read_csv(csv, low_memory=False)\n",
    "    new_df.append(df)\n",
    "\n",
    "combined_df = pd.concat(new_df, ignore_index=True)\n",
    "\n",
    "combined_df.to_csv(\"heart_disease_final.csv\", index=False)\n"
   ]
  },
  {
   "cell_type": "markdown",
   "id": "1e96ce54-2d99-49e5-83f0-0891a9d987fd",
   "metadata": {
    "jp-MarkdownHeadingCollapsed": true
   },
   "source": [
    "### Making the current_data_year column the left most column"
   ]
  },
  {
   "cell_type": "code",
   "execution_count": 17,
   "id": "cf095b14-6cd0-4e16-8a7a-faa2b2961650",
   "metadata": {},
   "outputs": [],
   "source": [
    "import pandas as pd\n",
    "df = pd.read_csv(\"heart_disease_final.csv\", low_memory=False)\n",
    "current_data_year = df.pop('current_data_year') \n",
    "df.insert(0, 'current_data_year', current_data_year) \n",
    "df.to_csv('heart_disease_final.csv', index=False)\n"
   ]
  },
  {
   "cell_type": "markdown",
   "id": "2ffebf0c-8601-4f93-9bf7-5647de17384e",
   "metadata": {
    "jp-MarkdownHeadingCollapsed": true
   },
   "source": [
    "### Adding Colulmns for ICD-10 \"subcategory\" and \"broader_category\""
   ]
  },
  {
   "cell_type": "code",
   "execution_count": 2,
   "id": "cf35bbaf-a320-4ae1-b376-4d5c15fd4569",
   "metadata": {},
   "outputs": [],
   "source": [
    "import pandas as pd\n",
    "\n",
    "df = pd.read_csv('heart_disease_combined.csv', low_memory=False)\n",
    "\n",
    "def get_subcategory(two_digits):\n",
    "    if pd.isna(two_digits):\n",
    "        return \"Unknown\"\n",
    "    if '00' <= two_digits <= '09':\n",
    "        return \"Rheumatic HD\"\n",
    "    elif two_digits in ['11', '13']:\n",
    "        return \"Hyptertensive HD\"\n",
    "    elif '20' <= two_digits <= '25':\n",
    "        return \"Ischemic HD\"\n",
    "    elif two_digits == '50':\n",
    "        return \"Heart Failure\"\n",
    "    elif '26' <= two_digits <= '28':\n",
    "        return \"Pulmonary Disease\"\n",
    "    elif '30' <= two_digits <= '32':\n",
    "        return \"Pericardial Diseases\"\n",
    "    elif '34' <= two_digits <= '39':\n",
    "        return \"Valvular HD\"\n",
    "    elif '42' <= two_digits <= '43':\n",
    "        return \"Cardiomyopathies\"\n",
    "    elif '44' <= two_digits <= '49':\n",
    "        return \"Conduction Disorders and Arrhythmias\"\n",
    "    else:\n",
    "        return \"Other\"\n",
    "\n",
    "def get_broader_category(subcategory):\n",
    "    major = [\n",
    "        \"Rheumatic HD\",\n",
    "        \"Hyptertensive HD\",\n",
    "        \"Ischemic HD\",\n",
    "        \"Heart Failure\"\n",
    "    ]\n",
    "    if subcategory in major:\n",
    "        return \"Major\"\n",
    "    elif subcategory == \"Other\":\n",
    "        return \"No\"\n",
    "    else:\n",
    "        return \"Other\"\n",
    "\n",
    "df['subcategory'] = df['icd_code_10th_revision'].str[1:3].apply(get_subcategory)\n",
    "df['broader_category'] = df['subcategory'].apply(get_broader_category)\n",
    "\n",
    "df.to_csv('categorized_heart_disease_data', index=False)"
   ]
  },
  {
   "cell_type": "markdown",
   "id": "5b900427-37d3-49d0-8e51-2a4d6ee3fc4a",
   "metadata": {
    "jp-MarkdownHeadingCollapsed": true
   },
   "source": [
    "### Creating age_recode column"
   ]
  },
  {
   "cell_type": "code",
   "execution_count": 1,
   "id": "ed5e8d54-91f6-4d4a-9215-13db141c06bf",
   "metadata": {},
   "outputs": [],
   "source": [
    "# 0 = 0-24, 1 = 25-39, 2 = 40-54, 3 = 55-69, 4 = 70-84, 5 = 85+"
   ]
  },
  {
   "cell_type": "code",
   "execution_count": 18,
   "id": "27117178-7388-40c7-8ae1-b41f1eb17990",
   "metadata": {},
   "outputs": [],
   "source": [
    "import pandas as pd\n",
    "df = pd.read_csv(\"heart_disease_final.csv\", low_memory = False)\n",
    "\n",
    "bins = [0, 24, 39, 54, 69, 84, float('inf')]\n",
    "labels = [0, 1, 2, 3, 4, 5]\n",
    "\n",
    "df['age_recode_custom'] = pd.cut(df['detail_age'], bins=bins, labels=labels, right=True, include_lowest=True)\n",
    "\n",
    "df['age_recode_custom'] = df['age_recode_custom'].astype(int)\n",
    "\n",
    "df.to_csv('HD_mortality.csv', index=False)\n"
   ]
  },
  {
   "cell_type": "markdown",
   "id": "16525d33-7abc-4f15-9388-658b93171c1e",
   "metadata": {
    "jp-MarkdownHeadingCollapsed": true
   },
   "source": [
    "### Filtering for Substance Use (SU)"
   ]
  },
  {
   "cell_type": "code",
   "execution_count": 19,
   "id": "ae4b3bc5-5be0-46b9-92d1-39185515f676",
   "metadata": {},
   "outputs": [],
   "source": [
    "import pandas as pd\n",
    "\n",
    "codes = [\n",
    "    'E244', 'F10', 'G312', 'G621', 'G721', 'I426', 'K70', 'K852', 'K860', 'R780',\n",
    "    'T51', 'X65', 'Y15', 'F11', 'F12', 'F13', 'F14', 'F15', 'F16', 'F18', 'F19',\n",
    "    'R781', 'R782', 'R783', 'R784', 'T40', 'T423', 'T424', 'T426', 'T427', 'T436',\n",
    "    'X61', 'X62', 'X64', 'X66', 'Y11', 'Y12', 'Y14', 'Y16', 'T52', 'T53', 'T509',\n",
    "    'T400', 'T401', 'T402', 'T403', 'T404', 'T406', 'T407', 'T405'\n",
    "]\n",
    "\n",
    "cols = [f'record_condition_{i}' for i in range(1, 21)]\n",
    "filtered_rows = []\n",
    "\n",
    "for chunk in pd.read_csv('HD_mortality.csv', low_memory=False, chunksize=100000):\n",
    "    present_cols = [col for col in cols if col in chunk.columns]\n",
    "    # For each row, check if any cell in present_cols starts with any code in codes\n",
    "    mask = chunk[present_cols].astype(str).apply(\n",
    "        lambda row: any(cell.startswith(tuple(codes)) for cell in row), axis=1\n",
    "    )\n",
    "    filtered_rows.append(chunk[mask])\n",
    "\n",
    "result = pd.concat(filtered_rows)\n",
    "result.to_csv('SUHD_mortality.csv', index=False)\n"
   ]
  },
  {
   "cell_type": "markdown",
   "id": "e20a2307-1813-4aff-97c9-8bca82e3fed1",
   "metadata": {},
   "source": [
    "### Sample CSV for Claude"
   ]
  },
  {
   "cell_type": "code",
   "execution_count": null,
   "id": "4f645a77-d7fc-4eb8-8416-797d1e545183",
   "metadata": {},
   "outputs": [],
   "source": [
    "df = pd.read_csv(\"SU_mortality_final.csv\", nrows=20000, low_memory = False)\n",
    "df.to_csv(\"SU_mortality_sample.csv\", index = False)"
   ]
  },
  {
   "cell_type": "markdown",
   "id": "0dbaa820-8dd3-4a58-a07b-f4a639a53615",
   "metadata": {
    "jp-MarkdownHeadingCollapsed": true
   },
   "source": [
    "## **Overall Mortality**"
   ]
  },
  {
   "cell_type": "markdown",
   "id": "23516357-efc7-4a0b-b7ce-0d36c995d02b",
   "metadata": {
    "jp-MarkdownHeadingCollapsed": true
   },
   "source": [
    "### Remove Irrelevant Columns"
   ]
  },
  {
   "cell_type": "code",
   "execution_count": 22,
   "id": "b75fbaaa-9196-4736-b0af-146a931d959b",
   "metadata": {},
   "outputs": [],
   "source": [
    "import pandas as pd\n",
    "for year in range(2005, 2016):\n",
    "    file_name = f\"{year}_data.csv\"\n",
    "    df = pd.read_csv(file_name, low_memory=False)\n",
    "    df = df.drop([\"resident_status\", \n",
    "                  \"education_1989_revision\", \n",
    "                  \"education_2003_revision\",\n",
    "                 \"education_reporting_flag\",\n",
    "                 \"age_substitution_flag\",\n",
    "                 \"age_recode_52\",\n",
    "                  \"age_recode_52\",\n",
    "                  \"age_recode_27\",\n",
    "                  \"age_recode_12\",\n",
    "                  \"infant_age_recode_22\",\n",
    "                  \"marital_status\",\n",
    "                  \"day_of_week_of_death\",\n",
    "                  \"injury_at_work\",\n",
    "                  \"manner_of_death\",\n",
    "                  \"autopsy\",\n",
    "                  \"activity_code\",\n",
    "                  \"place_of_injury_for_causes_w00_y34_except_y06_and_y07_\",\n",
    "                  \"358_cause_recode\",\n",
    "                  \"113_cause_recode\",\n",
    "                  \"130_infant_cause_recode\",\n",
    "                  \"39_cause_recode\",\n",
    "                  \"number_of_entity_axis_conditions\",\n",
    "                  \"bridged_race_flag\",\n",
    "                  \"race_imputation_flag\",\n",
    "                  \"race_recode_3\",\n",
    "                  \"hispanic_origin\",\n",
    "                  \"hispanic_originrace_recode\",\n",
    "                  \"race\",\n",
    "                  \"number_of_record_axis_conditions\",\n",
    "                  \"method_of_disposition\",\n",
    "                  \"detail_age_type\"], axis=1)\n",
    "    entity_columns = [f\"entity_condition_{x}\" for x in range(1, 21)]\n",
    "    df = df.drop(columns = entity_columns)\n",
    "    df.to_csv(file_name, index=False)\n"
   ]
  },
  {
   "cell_type": "markdown",
   "id": "46a2a0e8-aef7-4812-909b-66b8cf4f7642",
   "metadata": {
    "jp-MarkdownHeadingCollapsed": true
   },
   "source": [
    "### Merge CSVs"
   ]
  },
  {
   "cell_type": "code",
   "execution_count": 27,
   "id": "7b80d2d6-cb19-4e17-a0aa-0bc94d060e85",
   "metadata": {},
   "outputs": [],
   "source": [
    "import pandas as pd\n",
    "csv_files = []\n",
    "for year in range(2005, 2016):\n",
    "    file_name = f\"{year}_data.csv\"\n",
    "    csv_files.append(file_name)\n",
    "\n",
    "new_df = []\n",
    "\n",
    "for csv in csv_files:\n",
    "    df = pd.read_csv(csv, low_memory=False)\n",
    "    new_df.append(df)\n",
    "\n",
    "combined_df = pd.concat(new_df, ignore_index=True)\n",
    "\n",
    "combined_df.to_csv(\"mortality.csv\", index=False)\n"
   ]
  },
  {
   "cell_type": "markdown",
   "id": "3c09f212-1fe8-4bdf-8c31-304319caf5c6",
   "metadata": {
    "jp-MarkdownHeadingCollapsed": true
   },
   "source": [
    "## **Substance Use Mortality**"
   ]
  },
  {
   "cell_type": "markdown",
   "id": "b7a75c92-11e9-4264-a3cb-3fa961f4df64",
   "metadata": {},
   "source": [
    "### Filter for SU as underlying or contributing cause"
   ]
  },
  {
   "cell_type": "code",
   "execution_count": 28,
   "id": "b7ee7038-e55d-49f2-98e0-28658ef31116",
   "metadata": {},
   "outputs": [],
   "source": [
    "import pandas as pd\n",
    "\n",
    "df = pd.read_csv(\"mortality.csv\", low_memory=False)\n",
    "\n",
    "codes = [\n",
    "    'E244', 'F10', 'G312', 'G621', 'G721', 'I426', 'K70', 'K852', 'K860', 'R780',\n",
    "    'T51', 'X65', 'Y15', 'F11', 'F12', 'F13', 'F14', 'F15', 'F16', 'F18', 'F19',\n",
    "    'R781', 'R782', 'R783', 'R784', 'T40', 'T423', 'T424', 'T426', 'T427', 'T436',\n",
    "    'X61', 'X62', 'X64', 'X66', 'Y11', 'Y12', 'Y14', 'Y16', 'T52', 'T53', 'T509',\n",
    "    'T400', 'T401', 'T402', 'T403', 'T404', 'T406', 'T407', 'T405'\n",
    "]\n",
    "\n",
    "# All columns to check\n",
    "cols = ['icd_code_10th_revision'] + [f'record_condition_{i}' for i in range(1, 21)]\n",
    "\n",
    "# Filter only columns that exist in the DataFrame\n",
    "cols = [col for col in cols if col in df.columns]\n",
    "\n",
    "# Create a boolean DataFrame for startswith across all relevant columns\n",
    "mask = df[cols].astype(str).apply(lambda col: col.str.startswith(tuple(codes)))\n",
    "\n",
    "# Keep rows where any column matches\n",
    "filtered_df = df[mask.any(axis=1)]\n",
    "\n",
    "filtered_df.to_csv('SU_mortality_final.csv', index=False)"
   ]
  },
  {
   "cell_type": "markdown",
   "id": "92544e63-e81f-4d50-87c8-f3f73f235066",
   "metadata": {
    "jp-MarkdownHeadingCollapsed": true
   },
   "source": [
    "### Adding custom Age Recode"
   ]
  },
  {
   "cell_type": "code",
   "execution_count": 29,
   "id": "17929405-d324-4b9f-aebd-da7a7a7e20ac",
   "metadata": {},
   "outputs": [],
   "source": [
    "import pandas as pd\n",
    "df = pd.read_csv(\"SU_mortality_final.csv\", low_memory = False)\n",
    "\n",
    "bins = [0, 24, 39, 54, 69, 84, float('inf')]\n",
    "labels = [0, 1, 2, 3, 4, 5]\n",
    "\n",
    "df['age_recode_custom'] = pd.cut(df['detail_age'], bins=bins, labels=labels, right=True, include_lowest=True)\n",
    "\n",
    "df['age_recode_custom'] = df['age_recode_custom'].astype(int)\n",
    "\n",
    "df.to_csv('SU_mortality_final.csv', index=False)\n"
   ]
  },
  {
   "cell_type": "markdown",
   "id": "5b64e222-6e6d-49d7-b5f9-95a9e4b73411",
   "metadata": {
    "jp-MarkdownHeadingCollapsed": true
   },
   "source": [
    "### Remove mortalities < age 25 "
   ]
  },
  {
   "cell_type": "code",
   "execution_count": 33,
   "id": "4ef37ff8-e93c-4319-ae46-6ad0515122f0",
   "metadata": {},
   "outputs": [],
   "source": [
    "import pandas as pd \n",
    "df = pd.read_csv(\"SU_mortality_final.csv\", low_memory = False)\n",
    "df = df[df[\"age_recode_custom\"] != 0]\n",
    "df.to_csv('SU_mortality_final.csv', index=False)"
   ]
  },
  {
   "cell_type": "markdown",
   "id": "1cddf413-ba30-4743-90d3-d1893205a11a",
   "metadata": {
    "jp-MarkdownHeadingCollapsed": true
   },
   "source": [
    "## **Heart Disease mortality**"
   ]
  },
  {
   "cell_type": "markdown",
   "id": "c2c11cdd-73de-4ce6-99e3-87d27c45d3ba",
   "metadata": {
    "jp-MarkdownHeadingCollapsed": true
   },
   "source": [
    "### Filter HD as underlying or contributing cause (I00-I09, I11, I13, I20-I51)"
   ]
  },
  {
   "cell_type": "code",
   "execution_count": 31,
   "id": "87c8d832-6aa3-4f1c-b125-94c00d7099f3",
   "metadata": {},
   "outputs": [],
   "source": [
    "import pandas as pd\n",
    "\n",
    "df = pd.read_csv(\"mortality_final.csv\", low_memory=False)\n",
    "\n",
    "codes = [\n",
    "    'I00', 'I01', 'I02', 'I03', 'I04', 'I05', 'I06', 'I07', 'I08', 'I09', 'I11', 'I13', \n",
    "    'I20', 'I21', 'I22', 'I23', 'I24', 'I25', 'I26', 'I27', 'I28', 'I29', 'I30',\n",
    "    'I30', 'I31', 'I32', 'I33', 'I34', 'I35', 'I36', 'I37', 'I38', 'I39', 'I40',\n",
    "    'I40', 'I41', 'I42', 'I43', 'I44', 'I45', 'I46', 'I47', 'I48', 'I49', 'I50',\n",
    "    \"I51\"\n",
    "]\n",
    "\n",
    "# All columns to check\n",
    "cols = ['icd_code_10th_revision'] + [f'record_condition_{i}' for i in range(1, 21)]\n",
    "\n",
    "# Filter only columns that exist in the DataFrame\n",
    "cols = [col for col in cols if col in df.columns]\n",
    "\n",
    "# Create a boolean DataFrame for startswith across all relevant columns\n",
    "mask = df[cols].astype(str).apply(lambda col: col.str.startswith(tuple(codes)))\n",
    "\n",
    "# Keep rows where any column matches\n",
    "filtered_df = df[mask.any(axis=1)]\n",
    "\n",
    "filtered_df.to_csv('HD_mortality_final.csv', index=False)"
   ]
  },
  {
   "cell_type": "markdown",
   "id": "b3b4d5fa-bd6f-438b-9887-4bd366285a5b",
   "metadata": {
    "jp-MarkdownHeadingCollapsed": true
   },
   "source": [
    "### Adding custom age recode"
   ]
  },
  {
   "cell_type": "code",
   "execution_count": 32,
   "id": "6aa87815-0e72-40f4-b216-09d1b1cd5642",
   "metadata": {},
   "outputs": [],
   "source": [
    "import pandas as pd\n",
    "df = pd.read_csv(\"HD_mortality_final.csv\", low_memory = False)\n",
    "\n",
    "bins = [0, 24, 39, 54, 69, 84, float('inf')]\n",
    "labels = [0, 1, 2, 3, 4, 5]\n",
    "\n",
    "df['age_recode_custom'] = pd.cut(df['detail_age'], bins=bins, labels=labels, right=True, include_lowest=True)\n",
    "\n",
    "df['age_recode_custom'] = df['age_recode_custom'].astype(int)\n",
    "\n",
    "df.to_csv('HD_mortality_final.csv', index=False)"
   ]
  },
  {
   "cell_type": "markdown",
   "id": "d07920b8-4dfb-4c5c-98f5-53893fe30cb2",
   "metadata": {},
   "source": [
    "### Remove mortalities < age 25 "
   ]
  },
  {
   "cell_type": "code",
   "execution_count": 34,
   "id": "616807c2-e63e-4166-995a-c60b52882e4f",
   "metadata": {},
   "outputs": [],
   "source": [
    "import pandas as pd \n",
    "df = pd.read_csv(\"HD_mortality_final.csv\", low_memory = False)\n",
    "df = df[df[\"age_recode_custom\"] != 0]\n",
    "df.to_csv('HD_mortality_final.csv', index=False)"
   ]
  },
  {
   "cell_type": "markdown",
   "id": "a3c864d8-2600-47ae-b405-6a1055a95ee9",
   "metadata": {
    "jp-MarkdownHeadingCollapsed": true
   },
   "source": [
    "## **Substance Use and Heart Disease**"
   ]
  },
  {
   "cell_type": "markdown",
   "id": "57e06597-dc9e-4812-81c4-cf1cd3226242",
   "metadata": {},
   "source": [
    "### Filtering for SU and HD as underlying or contributing"
   ]
  },
  {
   "cell_type": "code",
   "execution_count": 3,
   "id": "eda82330-338b-47a3-b503-423760b790ab",
   "metadata": {},
   "outputs": [
    {
     "name": "stdout",
     "output_type": "stream",
     "text": [
      "ERROR! Session/line number was not unique in database. History logging moved to new session 46\n"
     ]
    }
   ],
   "source": [
    "import pandas as pd\n",
    "\n",
    "df = pd.read_csv(\"mortality_final.csv\", low_memory=False)\n",
    "\n",
    "# Define HD and SU codes separately\n",
    "hd_codes = [\n",
    "    'I00', 'I01', 'I02', 'I03', 'I04', 'I05', 'I06', 'I07', 'I08', 'I09', 'I11', 'I13', \n",
    "    'I20', 'I21', 'I22', 'I23', 'I24', 'I25', 'I26', 'I27', 'I28', 'I29', 'I30',\n",
    "    'I31', 'I32', 'I33', 'I34', 'I35', 'I36', 'I37', 'I38', 'I39', 'I40',\n",
    "    'I41', 'I42', 'I43', 'I44', 'I45', 'I46', 'I47', 'I48', 'I49', 'I50', 'I51'\n",
    "]\n",
    "\n",
    "su_codes = [\n",
    "    'E244', 'F10', 'G312', 'G621', 'G721', 'I426', 'K70', 'K852', 'K860', 'R780',\n",
    "    'T51', 'X65', 'Y15', 'F11', 'F12', 'F13', 'F14', 'F15', 'F16', 'F18', 'F19',\n",
    "    'R781', 'R782', 'R783', 'R784', 'T40', 'T423', 'T424', 'T426', 'T427', 'T436',\n",
    "    'X61', 'X62', 'X64', 'X66', 'Y11', 'Y12', 'Y14', 'Y16', 'T52', 'T53', 'T509',\n",
    "    'T400', 'T401', 'T402', 'T403', 'T404', 'T406', 'T407', 'T405'\n",
    "]\n",
    "\n",
    "# All columns to check\n",
    "cols = ['icd_code_10th_revision'] + [f'record_condition_{i}' for i in range(1, 21)] \n",
    "\n",
    "# Check for HD codes in any column\n",
    "has_hd = df[cols].apply(lambda x: x.astype(str).str.startswith(tuple(hd_codes))).any(axis=1)\n",
    "\n",
    "# Check for SU codes in any column\n",
    "has_su = df[cols].apply(lambda x: x.astype(str).str.startswith(tuple(su_codes))).any(axis=1)\n",
    "\n",
    "# Select rows where BOTH conditions are met\n",
    "filtered_df = df[has_hd & has_su]\n",
    "\n",
    "# Save the filtered DataFrame\n",
    "filtered_df.to_csv('SU_HD_mortality_final.csv', index=False)\n"
   ]
  },
  {
   "cell_type": "markdown",
   "id": "613f7cb5-3992-4cff-8242-3743a83b5e5b",
   "metadata": {},
   "source": [
    "### Adding custom age recode"
   ]
  },
  {
   "cell_type": "code",
   "execution_count": 4,
   "id": "15a1f778-503d-4d69-92f6-ed577be06957",
   "metadata": {},
   "outputs": [],
   "source": [
    "import pandas as pd\n",
    "df = pd.read_csv(\"SU_HD_mortality_final.csv\", low_memory = False)\n",
    "\n",
    "bins = [0, 24, 39, 54, 69, 84, float('inf')]\n",
    "labels = [0, 1, 2, 3, 4, 5]\n",
    "\n",
    "df['age_recode_custom'] = pd.cut(df['detail_age'], bins=bins, labels=labels, right=True, include_lowest=True)\n",
    "\n",
    "df['age_recode_custom'] = df['age_recode_custom'].astype(int)\n",
    "\n",
    "df.to_csv('SU_HD_mortality_final.csv', index=False)"
   ]
  },
  {
   "cell_type": "markdown",
   "id": "f80b66f8-ce4b-4bba-98ab-2bf0dab10cc7",
   "metadata": {},
   "source": [
    "### Remove mortalities < age 25 "
   ]
  },
  {
   "cell_type": "code",
   "execution_count": 6,
   "id": "d682f9e4-057d-47e5-a998-970fc93d9379",
   "metadata": {},
   "outputs": [],
   "source": [
    "import pandas as pd \n",
    "df = pd.read_csv(\"SU_HD_mortality_final.csv\", low_memory = False)\n",
    "df = df[df[\"age_recode_custom\"] != 0]\n",
    "df.to_csv('SU_HD_mortality_final.csv', index=False)"
   ]
  }
 ],
 "metadata": {
  "kernelspec": {
   "display_name": "Python [conda env:base] *",
   "language": "python",
   "name": "conda-base-py"
  },
  "language_info": {
   "codemirror_mode": {
    "name": "ipython",
    "version": 3
   },
   "file_extension": ".py",
   "mimetype": "text/x-python",
   "name": "python",
   "nbconvert_exporter": "python",
   "pygments_lexer": "ipython3",
   "version": "3.12.7"
  }
 },
 "nbformat": 4,
 "nbformat_minor": 5
}
