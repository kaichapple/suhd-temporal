{
 "cells": [
  {
   "cell_type": "markdown",
   "id": "0dbaa820-8dd3-4a58-a07b-f4a639a53615",
   "metadata": {
    "jp-MarkdownHeadingCollapsed": true
   },
   "source": [
    "## **Overall Mortality**"
   ]
  },
  {
   "cell_type": "markdown",
   "id": "23516357-efc7-4a0b-b7ce-0d36c995d02b",
   "metadata": {
    "jp-MarkdownHeadingCollapsed": true
   },
   "source": [
    "### Remove Irrelevant Columns"
   ]
  },
  {
   "cell_type": "code",
   "execution_count": 22,
   "id": "b75fbaaa-9196-4736-b0af-146a931d959b",
   "metadata": {},
   "outputs": [],
   "source": [
    "import pandas as pd\n",
    "for year in range(2005, 2016):\n",
    "    file_name = f\"{year}_data.csv\"\n",
    "    df = pd.read_csv(file_name, low_memory=False)\n",
    "    df = df.drop([\"resident_status\", \n",
    "                  \"education_1989_revision\", \n",
    "                  \"education_2003_revision\",\n",
    "                 \"education_reporting_flag\",\n",
    "                 \"age_substitution_flag\",\n",
    "                 \"age_recode_52\",\n",
    "                  \"age_recode_52\",\n",
    "                  \"age_recode_27\",\n",
    "                  \"age_recode_12\",\n",
    "                  \"infant_age_recode_22\",\n",
    "                  \"marital_status\",\n",
    "                  \"day_of_week_of_death\",\n",
    "                  \"injury_at_work\",\n",
    "                  \"manner_of_death\",\n",
    "                  \"autopsy\",\n",
    "                  \"activity_code\",\n",
    "                  \"place_of_injury_for_causes_w00_y34_except_y06_and_y07_\",\n",
    "                  \"358_cause_recode\",\n",
    "                  \"113_cause_recode\",\n",
    "                  \"130_infant_cause_recode\",\n",
    "                  \"39_cause_recode\",\n",
    "                  \"number_of_entity_axis_conditions\",\n",
    "                  \"bridged_race_flag\",\n",
    "                  \"race_imputation_flag\",\n",
    "                  \"race_recode_3\",\n",
    "                  \"hispanic_origin\",\n",
    "                  \"hispanic_originrace_recode\",\n",
    "                  \"race\",\n",
    "                  \"number_of_record_axis_conditions\",\n",
    "                  \"method_of_disposition\",\n",
    "                  \"detail_age_type\"], axis=1)\n",
    "    entity_columns = [f\"entity_condition_{x}\" for x in range(1, 21)]\n",
    "    df = df.drop(columns = entity_columns)\n",
    "    df.to_csv(file_name, index=False)\n"
   ]
  },
  {
   "cell_type": "markdown",
   "id": "46a2a0e8-aef7-4812-909b-66b8cf4f7642",
   "metadata": {
    "jp-MarkdownHeadingCollapsed": true
   },
   "source": [
    "### Merge CSVs"
   ]
  },
  {
   "cell_type": "code",
   "execution_count": 27,
   "id": "7b80d2d6-cb19-4e17-a0aa-0bc94d060e85",
   "metadata": {},
   "outputs": [],
   "source": [
    "import pandas as pd\n",
    "csv_files = []\n",
    "for year in range(2005, 2016):\n",
    "    file_name = f\"{year}_data.csv\"\n",
    "    csv_files.append(file_name)\n",
    "\n",
    "new_df = []\n",
    "\n",
    "for csv in csv_files:\n",
    "    df = pd.read_csv(csv, low_memory=False)\n",
    "    new_df.append(df)\n",
    "\n",
    "combined_df = pd.concat(new_df, ignore_index=True)\n",
    "\n",
    "combined_df.to_csv(\"mortality.csv\", index=False)\n"
   ]
  },
  {
   "cell_type": "markdown",
   "id": "3c09f212-1fe8-4bdf-8c31-304319caf5c6",
   "metadata": {
    "jp-MarkdownHeadingCollapsed": true
   },
   "source": [
    "## **Substance Use Mortality**"
   ]
  },
  {
   "cell_type": "markdown",
   "id": "b7a75c92-11e9-4264-a3cb-3fa961f4df64",
   "metadata": {},
   "source": [
    "### Filter for SU as underlying or contributing cause"
   ]
  },
  {
   "cell_type": "code",
   "execution_count": 28,
   "id": "b7ee7038-e55d-49f2-98e0-28658ef31116",
   "metadata": {},
   "outputs": [],
   "source": [
    "import pandas as pd\n",
    "\n",
    "df = pd.read_csv(\"mortality.csv\", low_memory=False)\n",
    "\n",
    "codes = [\n",
    "    'E244', 'F10', 'G312', 'G621', 'G721', 'I426', 'K70', 'K852', 'K860', 'R780',\n",
    "    'T51', 'X65', 'Y15', 'F11', 'F12', 'F13', 'F14', 'F15', 'F16', 'F18', 'F19',\n",
    "    'R781', 'R782', 'R783', 'R784', 'T40', 'T423', 'T424', 'T426', 'T427', 'T436',\n",
    "    'X61', 'X62', 'X64', 'X66', 'Y11', 'Y12', 'Y14', 'Y16', 'T52', 'T53', 'T509',\n",
    "    'T400', 'T401', 'T402', 'T403', 'T404', 'T406', 'T407', 'T405'\n",
    "]\n",
    "\n",
    "# All columns to check\n",
    "cols = ['icd_code_10th_revision'] + [f'record_condition_{i}' for i in range(1, 21)]\n",
    "\n",
    "# Filter only columns that exist in the DataFrame\n",
    "cols = [col for col in cols if col in df.columns]\n",
    "\n",
    "# Create a boolean DataFrame for startswith across all relevant columns\n",
    "mask = df[cols].astype(str).apply(lambda col: col.str.startswith(tuple(codes)))\n",
    "\n",
    "# Keep rows where any column matches\n",
    "filtered_df = df[mask.any(axis=1)]\n",
    "\n",
    "filtered_df.to_csv('SU_mortality_final.csv', index=False)"
   ]
  },
  {
   "cell_type": "markdown",
   "id": "92544e63-e81f-4d50-87c8-f3f73f235066",
   "metadata": {
    "jp-MarkdownHeadingCollapsed": true
   },
   "source": [
    "### Adding custom Age Recode"
   ]
  },
  {
   "cell_type": "code",
   "execution_count": 29,
   "id": "17929405-d324-4b9f-aebd-da7a7a7e20ac",
   "metadata": {},
   "outputs": [],
   "source": [
    "import pandas as pd\n",
    "df = pd.read_csv(\"SU_mortality_final.csv\", low_memory = False)\n",
    "\n",
    "bins = [0, 24, 39, 54, 69, 84, float('inf')]\n",
    "labels = [0, 1, 2, 3, 4, 5]\n",
    "\n",
    "df['age_recode_custom'] = pd.cut(df['detail_age'], bins=bins, labels=labels, right=True, include_lowest=True)\n",
    "\n",
    "df['age_recode_custom'] = df['age_recode_custom'].astype(int)\n",
    "\n",
    "df.to_csv('SU_mortality_final.csv', index=False)\n"
   ]
  },
  {
   "cell_type": "markdown",
   "id": "5b64e222-6e6d-49d7-b5f9-95a9e4b73411",
   "metadata": {
    "jp-MarkdownHeadingCollapsed": true
   },
   "source": [
    "### Remove mortalities < age 25 "
   ]
  },
  {
   "cell_type": "code",
   "execution_count": 33,
   "id": "4ef37ff8-e93c-4319-ae46-6ad0515122f0",
   "metadata": {},
   "outputs": [],
   "source": [
    "import pandas as pd \n",
    "df = pd.read_csv(\"SU_mortality_final.csv\", low_memory = False)\n",
    "df = df[df[\"age_recode_custom\"] != 0]\n",
    "df.to_csv('SU_mortality_final.csv', index=False)"
   ]
  },
  {
   "cell_type": "markdown",
   "id": "1cddf413-ba30-4743-90d3-d1893205a11a",
   "metadata": {
    "jp-MarkdownHeadingCollapsed": true
   },
   "source": [
    "## **Heart Disease mortality**"
   ]
  },
  {
   "cell_type": "markdown",
   "id": "c2c11cdd-73de-4ce6-99e3-87d27c45d3ba",
   "metadata": {
    "jp-MarkdownHeadingCollapsed": true
   },
   "source": [
    "### Filter HD as underlying or contributing cause (I00-I09, I11, I13, I20-I51)"
   ]
  },
  {
   "cell_type": "code",
   "execution_count": 31,
   "id": "87c8d832-6aa3-4f1c-b125-94c00d7099f3",
   "metadata": {},
   "outputs": [],
   "source": [
    "import pandas as pd\n",
    "\n",
    "df = pd.read_csv(\"mortality_final.csv\", low_memory=False)\n",
    "\n",
    "codes = [\n",
    "    'I00', 'I01', 'I02', 'I03', 'I04', 'I05', 'I06', 'I07', 'I08', 'I09', 'I11', 'I13', \n",
    "    'I20', 'I21', 'I22', 'I23', 'I24', 'I25', 'I26', 'I27', 'I28', 'I29', 'I30',\n",
    "    'I30', 'I31', 'I32', 'I33', 'I34', 'I35', 'I36', 'I37', 'I38', 'I39', 'I40',\n",
    "    'I40', 'I41', 'I42', 'I43', 'I44', 'I45', 'I46', 'I47', 'I48', 'I49', 'I50',\n",
    "    \"I51\"\n",
    "]\n",
    "\n",
    "# All columns to check\n",
    "cols = ['icd_code_10th_revision'] + [f'record_condition_{i}' for i in range(1, 21)]\n",
    "\n",
    "# Filter only columns that exist in the DataFrame\n",
    "cols = [col for col in cols if col in df.columns]\n",
    "\n",
    "# Create a boolean DataFrame for startswith across all relevant columns\n",
    "mask = df[cols].astype(str).apply(lambda col: col.str.startswith(tuple(codes)))\n",
    "\n",
    "# Keep rows where any column matches\n",
    "filtered_df = df[mask.any(axis=1)]\n",
    "\n",
    "filtered_df.to_csv('HD_mortality_final.csv', index=False)"
   ]
  },
  {
   "cell_type": "markdown",
   "id": "b3b4d5fa-bd6f-438b-9887-4bd366285a5b",
   "metadata": {
    "jp-MarkdownHeadingCollapsed": true
   },
   "source": [
    "### Adding custom age recode"
   ]
  },
  {
   "cell_type": "code",
   "execution_count": 32,
   "id": "6aa87815-0e72-40f4-b216-09d1b1cd5642",
   "metadata": {},
   "outputs": [],
   "source": [
    "import pandas as pd\n",
    "df = pd.read_csv(\"HD_mortality_final.csv\", low_memory = False)\n",
    "\n",
    "bins = [0, 24, 39, 54, 69, 84, float('inf')]\n",
    "labels = [0, 1, 2, 3, 4, 5]\n",
    "\n",
    "df['age_recode_custom'] = pd.cut(df['detail_age'], bins=bins, labels=labels, right=True, include_lowest=True)\n",
    "\n",
    "df['age_recode_custom'] = df['age_recode_custom'].astype(int)\n",
    "\n",
    "df.to_csv('HD_mortality_final.csv', index=False)"
   ]
  },
  {
   "cell_type": "markdown",
   "id": "d07920b8-4dfb-4c5c-98f5-53893fe30cb2",
   "metadata": {},
   "source": [
    "### Remove mortalities < age 25 "
   ]
  },
  {
   "cell_type": "code",
   "execution_count": 34,
   "id": "616807c2-e63e-4166-995a-c60b52882e4f",
   "metadata": {},
   "outputs": [],
   "source": [
    "import pandas as pd \n",
    "df = pd.read_csv(\"HD_mortality_final.csv\", low_memory = False)\n",
    "df = df[df[\"age_recode_custom\"] != 0]\n",
    "df.to_csv('HD_mortality_final.csv', index=False)"
   ]
  },
  {
   "cell_type": "markdown",
   "id": "a3c864d8-2600-47ae-b405-6a1055a95ee9",
   "metadata": {
    "jp-MarkdownHeadingCollapsed": true
   },
   "source": [
    "## **Substance Use and Heart Disease**"
   ]
  },
  {
   "cell_type": "markdown",
   "id": "57e06597-dc9e-4812-81c4-cf1cd3226242",
   "metadata": {},
   "source": [
    "### Filtering for SU and HD as underlying or contributing"
   ]
  },
  {
   "cell_type": "code",
   "execution_count": 3,
   "id": "eda82330-338b-47a3-b503-423760b790ab",
   "metadata": {},
   "outputs": [
    {
     "name": "stdout",
     "output_type": "stream",
     "text": [
      "ERROR! Session/line number was not unique in database. History logging moved to new session 46\n"
     ]
    }
   ],
   "source": [
    "import pandas as pd\n",
    "\n",
    "df = pd.read_csv(\"mortality_final.csv\", low_memory=False)\n",
    "\n",
    "# Define HD and SU codes separately\n",
    "hd_codes = [\n",
    "    'I00', 'I01', 'I02', 'I03', 'I04', 'I05', 'I06', 'I07', 'I08', 'I09', 'I11', 'I13', \n",
    "    'I20', 'I21', 'I22', 'I23', 'I24', 'I25', 'I26', 'I27', 'I28', 'I29', 'I30',\n",
    "    'I31', 'I32', 'I33', 'I34', 'I35', 'I36', 'I37', 'I38', 'I39', 'I40',\n",
    "    'I41', 'I42', 'I43', 'I44', 'I45', 'I46', 'I47', 'I48', 'I49', 'I50', 'I51'\n",
    "]\n",
    "\n",
    "su_codes = [\n",
    "    'E244', 'F10', 'G312', 'G621', 'G721', 'I426', 'K70', 'K852', 'K860', 'R780',\n",
    "    'T51', 'X65', 'Y15', 'F11', 'F12', 'F13', 'F14', 'F15', 'F16', 'F18', 'F19',\n",
    "    'R781', 'R782', 'R783', 'R784', 'T40', 'T423', 'T424', 'T426', 'T427', 'T436',\n",
    "    'X61', 'X62', 'X64', 'X66', 'Y11', 'Y12', 'Y14', 'Y16', 'T52', 'T53', 'T509',\n",
    "    'T400', 'T401', 'T402', 'T403', 'T404', 'T406', 'T407', 'T405'\n",
    "]\n",
    "\n",
    "# All columns to check\n",
    "cols = ['icd_code_10th_revision'] + [f'record_condition_{i}' for i in range(1, 21)] \n",
    "\n",
    "# Check for HD codes in any column\n",
    "has_hd = df[cols].apply(lambda x: x.astype(str).str.startswith(tuple(hd_codes))).any(axis=1)\n",
    "\n",
    "# Check for SU codes in any column\n",
    "has_su = df[cols].apply(lambda x: x.astype(str).str.startswith(tuple(su_codes))).any(axis=1)\n",
    "\n",
    "# Select rows where BOTH conditions are met\n",
    "filtered_df = df[has_hd & has_su]\n",
    "\n",
    "# Save the filtered DataFrame\n",
    "filtered_df.to_csv('SU_HD_mortality_final.csv', index=False)\n"
   ]
  },
  {
   "cell_type": "markdown",
   "id": "613f7cb5-3992-4cff-8242-3743a83b5e5b",
   "metadata": {},
   "source": [
    "### Adding custom age recode"
   ]
  },
  {
   "cell_type": "code",
   "execution_count": 4,
   "id": "15a1f778-503d-4d69-92f6-ed577be06957",
   "metadata": {},
   "outputs": [],
   "source": [
    "import pandas as pd\n",
    "df = pd.read_csv(\"SU_HD_mortality_final.csv\", low_memory = False)\n",
    "\n",
    "bins = [0, 24, 39, 54, 69, 84, float('inf')]\n",
    "labels = [0, 1, 2, 3, 4, 5]\n",
    "\n",
    "df['age_recode_custom'] = pd.cut(df['detail_age'], bins=bins, labels=labels, right=True, include_lowest=True)\n",
    "\n",
    "df['age_recode_custom'] = df['age_recode_custom'].astype(int)\n",
    "\n",
    "df.to_csv('SU_HD_mortality_final.csv', index=False)"
   ]
  },
  {
   "cell_type": "markdown",
   "id": "f80b66f8-ce4b-4bba-98ab-2bf0dab10cc7",
   "metadata": {},
   "source": [
    "### Remove mortalities < age 25 "
   ]
  },
  {
   "cell_type": "code",
   "execution_count": 6,
   "id": "d682f9e4-057d-47e5-a998-970fc93d9379",
   "metadata": {},
   "outputs": [],
   "source": [
    "import pandas as pd \n",
    "df = pd.read_csv(\"SU_HD_mortality_final.csv\", low_memory = False)\n",
    "df = df[df[\"age_recode_custom\"] != 0]\n",
    "df.to_csv('SU_HD_mortality_final.csv', index=False)"
   ]
  }
 ],
 "metadata": {
  "kernelspec": {
   "display_name": "Python [conda env:base] *",
   "language": "python",
   "name": "conda-base-py"
  },
  "language_info": {
   "codemirror_mode": {
    "name": "ipython",
    "version": 3
   },
   "file_extension": ".py",
   "mimetype": "text/x-python",
   "name": "python",
   "nbconvert_exporter": "python",
   "pygments_lexer": "ipython3",
   "version": "3.12.7"
  }
 },
 "nbformat": 4,
 "nbformat_minor": 5
}
