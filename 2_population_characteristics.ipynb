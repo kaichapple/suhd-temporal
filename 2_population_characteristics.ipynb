{
 "cells": [
  {
   "cell_type": "markdown",
   "id": "e666d692-c13d-48c6-93cb-23ac7a5049e9",
   "metadata": {},
   "source": [
    "## 2: Population Characteristics (Age 25+)"
   ]
  },
  {
   "cell_type": "markdown",
   "id": "bd63179d-5fd9-4d4c-96d5-1f3cafb86335",
   "metadata": {},
   "source": [
    "### Total Deaths 2005-2015"
   ]
  },
  {
   "cell_type": "code",
   "execution_count": 2,
   "id": "1746e7e1-8e05-4614-9c38-e89c7e45edc6",
   "metadata": {},
   "outputs": [
    {
     "name": "stdout",
     "output_type": "stream",
     "text": [
      "2452506 mortalities in 2005\n",
      "2430725 mortalities in 2006\n",
      "2428343 mortalities in 2007\n",
      "2476811 mortalities in 2008\n",
      "2441219 mortalities in 2009\n",
      "2472542 mortalities in 2010\n",
      "2519842 mortalities in 2011\n",
      "2547864 mortalities in 2012\n",
      "2601452 mortalities in 2013\n",
      "2631171 mortalities in 2014\n",
      "2718198 mortalities in 2015\n",
      "The total number of mortalities from 2005 to 2015 is 27720673\n"
     ]
    }
   ],
   "source": [
    "import pandas as pd\n",
    "total_count = 0\n",
    "for year in range (2005, 2016):\n",
    "    file_name = f\"{year}_data.csv\"\n",
    "    df = pd.read_csv(file_name, low_memory = False)\n",
    "    total_count += len(df)\n",
    "    print(f\"{len(df)} mortalities in {year}\")\n",
    "\n",
    "print(f\"The total number of mortalities from 2005 to 2015 is {total_count}\")"
   ]
  },
  {
   "cell_type": "markdown",
   "id": "899a7b84-8fb4-4021-b79e-7e9199957a35",
   "metadata": {},
   "source": [
    "### Total Heart Disease Deaths 2005-2015"
   ]
  },
  {
   "cell_type": "code",
   "execution_count": 66,
   "id": "b7450537-d7bc-42ec-ac26-651622c75cb3",
   "metadata": {},
   "outputs": [
    {
     "name": "stdout",
     "output_type": "stream",
     "text": [
      "The total number of Heart Disease mortalities from 2005 to 2015 is 12364124 or 44.6% of total deaths\n"
     ]
    }
   ],
   "source": [
    "import pandas as pd\n",
    "df = pd.read_csv(\"HD_mortality_final.csv\", low_memory = False)\n",
    "print(f\"The total number of Heart Disease mortalities from 2005 to 2015 is {len(df)} or {round((len(df)/27720673)*100, 2)}% of total deaths\")"
   ]
  },
  {
   "cell_type": "markdown",
   "id": "259a3efe-b25c-47e3-909b-1e636f7e9aee",
   "metadata": {},
   "source": [
    "### Total Substance Use Deaths 2005-2015"
   ]
  },
  {
   "cell_type": "code",
   "execution_count": 2,
   "id": "ebbb8e11-533b-438e-b761-8229a14e0e67",
   "metadata": {},
   "outputs": [
    {
     "name": "stdout",
     "output_type": "stream",
     "text": [
      "The total number of Substance Use mortalities from 2005 to 2015 is 978494 or 3.53% of total deaths\n"
     ]
    }
   ],
   "source": [
    "import pandas as pd\n",
    "df = pd.read_csv(\"SU_mortality_final.csv\", low_memory = False)\n",
    "print(f\"The total number of Substance Use mortalities from 2005 to 2015 is {len(df)} or {round((len(df)/27720673)*100, 2)}% of total deaths\")"
   ]
  },
  {
   "cell_type": "markdown",
   "id": "f9f86228-563e-47d0-94bb-da95e5b72298",
   "metadata": {},
   "source": [
    "### Number of HD deaths w/ SU listed as a concomitant cause of death"
   ]
  },
  {
   "cell_type": "code",
   "execution_count": 1,
   "id": "676e34d3-5ff6-4017-a576-301514c1ddf4",
   "metadata": {},
   "outputs": [
    {
     "name": "stdout",
     "output_type": "stream",
     "text": [
      "The total number of SU related HD mortalities from 2005 to 2015 is 270578 or 3.99% of total HD deaths\n"
     ]
    }
   ],
   "source": [
    "import pandas as pd\n",
    "df = pd.read_csv(\"SU_HD_mortality_final.csv\", low_memory = False)\n",
    "print(f\"The total number of SU related HD mortalities from 2005 to 2015 is {len(df)} or {round((len(df)/6782558)*100, 2)}% of total HD deaths\")"
   ]
  },
  {
   "cell_type": "markdown",
   "id": "a2d8b786-e6f6-44ca-b622-f8e118ccc23f",
   "metadata": {},
   "source": [
    "### SU+HD stratified by Sex"
   ]
  },
  {
   "cell_type": "code",
   "execution_count": 3,
   "id": "67af615b-85f6-4384-bcde-1ee46fa2a07b",
   "metadata": {},
   "outputs": [
    {
     "name": "stdout",
     "output_type": "stream",
     "text": [
      "There were 205842 male SUHD deaths accounting for 76.07% of total SUHD deaths\n",
      "There were 64736 male SUHD deaths accounting for 23.93% of total SUHD deaths\n"
     ]
    }
   ],
   "source": [
    "import pandas as pd\n",
    "df = pd.read_csv(\"SU_HD_mortality_final.csv\", low_memory = False)\n",
    "#Count F vs. M in column \"Sex\"\n",
    "counts = df[\"sex\"].value_counts()\n",
    "f = counts[\"F\"]\n",
    "m = counts[\"M\"]\n",
    "print(f\"There were {m} male SUHD deaths accounting for {round((m/(len(df)))*100, 2)}% of total SUHD deaths\")\n",
    "print(f\"There were {f} male SUHD deaths accounting for {round((f/(len(df)))*100, 2)}% of total SUHD deaths\")"
   ]
  },
  {
   "cell_type": "markdown",
   "id": "2b07011e-98d5-4069-a985-df0470c18216",
   "metadata": {},
   "source": [
    "### SU+HD stratified by Race"
   ]
  },
  {
   "cell_type": "code",
   "execution_count": 8,
   "id": "d870361f-3c2b-4123-80d7-f60a13cf090c",
   "metadata": {},
   "outputs": [
    {
     "name": "stdout",
     "output_type": "stream",
     "text": [
      "White = 81.58% of total SUHD deaths\n",
      "Black = 15.37% of total SUHD deaths\n",
      "American Indian = 1.82% of total SUHD deaths\n",
      "Asian or Pacific Islander = 1.22% of total SUHD deaths\n"
     ]
    }
   ],
   "source": [
    "import pandas as pd\n",
    "df = pd.read_csv(\"SU_HD_mortality_final.csv\", low_memory = False)\n",
    "counts = df[\"race_recode_5\"].value_counts()\n",
    "white = counts[1]\n",
    "black = counts[2]\n",
    "american_indian = counts[3]\n",
    "asian_pacific_islander = counts[4]\n",
    "print(f\"White = {round((white/(len(df)))*100, 2)}% of total SUHD deaths\")\n",
    "print(f\"Black = {round((black/(len(df)))*100, 2)}% of total SUHD deaths\")\n",
    "print(f\"American Indian = {round((american_indian/(len(df)))*100, 2)}% of total SUHD deaths\")\n",
    "print(f\"Asian or Pacific Islander = {round((asian_pacific_islander/(len(df)))*100, 2)}% of total SUHD deaths\")"
   ]
  },
  {
   "cell_type": "markdown",
   "id": "33401547-b36d-4411-bafe-c7090484ba88",
   "metadata": {},
   "source": [
    "### SU+HD stratified by Age"
   ]
  },
  {
   "cell_type": "code",
   "execution_count": 9,
   "id": "af6af486-cddc-4a5d-87b5-a288e93e9d11",
   "metadata": {},
   "outputs": [
    {
     "name": "stdout",
     "output_type": "stream",
     "text": [
      "Ages 25-39 accounted for 10.6% of total SU+HD deaths\n",
      "Ages 40-54 accounted for 39.24% of total SU+HD deaths\n",
      "Ages 55-69 accounted for 37.87% of total SU+HD deaths\n",
      "Ages 70-84 accounted for 10.72% of total SU+HD deaths\n",
      "Ages 85+ accounted for 1.57% of total SU+HD deaths\n"
     ]
    }
   ],
   "source": [
    "import pandas as pd\n",
    "df = pd.read_csv(\"SU_HD_mortality_final.csv\", low_memory = False)\n",
    "counts = df[\"age_recode_custom\"].value_counts()\n",
    "five = counts[5]\n",
    "four = counts[4]\n",
    "three = counts[3]\n",
    "two = counts[2]\n",
    "one = counts[1]\n",
    "total = len(df)\n",
    "print(f\"Ages 25-39 accounted for {round((one/(total))*100, 2)}% of total SU+HD deaths\")\n",
    "print(f\"Ages 40-54 accounted for {round((two/(total))*100, 2)}% of total SU+HD deaths\")\n",
    "print(f\"Ages 55-69 accounted for {round((three/(total))*100, 2)}% of total SU+HD deaths\")\n",
    "print(f\"Ages 70-84 accounted for {round((four/(total))*100, 2)}% of total SU+HD deaths\")\n",
    "print(f\"Ages 85+ accounted for {round((five/(total))*100, 2)}% of total SU+HD deaths\")\n",
    "#Age groups\n",
    "#0-24 25-39, 40-54, 55-69, 70-84, 85+"
   ]
  },
  {
   "cell_type": "markdown",
   "id": "ca69ded7-3cb9-42e6-b7a4-d3556335a490",
   "metadata": {},
   "source": [
    "### SU+HD stratified by substance **"
   ]
  },
  {
   "cell_type": "code",
   "execution_count": 7,
   "id": "6a4c564c-1804-41c1-b395-e792fdd2f86a",
   "metadata": {},
   "outputs": [
    {
     "name": "stdout",
     "output_type": "stream",
     "text": [
      "Opioids: 15.5%\n",
      "Cannabis: 0.4%\n",
      "Cocaine: 10.3%\n",
      "Sedatives/Hypnotics: 4.8%\n",
      "Alcohol: 61.6%\n",
      "Stimulants: 5.4%\n"
     ]
    }
   ],
   "source": [
    "import pandas as pd\n",
    "\n",
    "df = pd.read_csv('SU_HD_mortality_final.csv', low_memory = False)\n",
    "\n",
    "categories = {\n",
    "    'Opioids': ['F11', 'R781', 'T400', 'T401', 'T402', 'T403', 'T404', 'T406', 'X62', 'Y12'],\n",
    "    'Cannabis': ['F12', 'T407'],\n",
    "    'Cocaine': ['F14', 'R782', 'T405'],\n",
    "    'Sedatives/Hypnotics': ['F13', 'T423', 'T424', 'T426', 'T427', 'X61', 'Y11'],\n",
    "    'Alcohol': ['E244','F10','G312','G621','G721','I426','K70','K852','K860','R780','T51','X65','Y15'],\n",
    "    'Stimulants': ['F15','T436'],\n",
    "}\n",
    "\n",
    "cond_cols = ['icd_code_10th_revision'] + [f'record_condition_{i}' for i in range(1, 21)] #creates a list of the columns\n",
    "\n",
    "def row_has_prefix(row, prefixes):\n",
    "    for col in cond_cols: #for each column in the list/csv\n",
    "        val = str(row[col]).strip() \n",
    "        if val != 'nan' and any(val.startswith(prefix) for prefix in prefixes):\n",
    "            return True\n",
    "    return False\n",
    "\n",
    "total_deaths = len(df)\n",
    "\n",
    "for cat, prefixes in categories.items():\n",
    "    mask = df.apply(lambda row: row_has_prefix(row, prefixes), axis=1)\n",
    "    percent = mask.sum() / total_deaths * 100\n",
    "    print(f\"{cat}: {percent:.1f}%\")\n"
   ]
  }
 ],
 "metadata": {
  "kernelspec": {
   "display_name": "Python 3 (ipykernel)",
   "language": "python",
   "name": "python3"
  },
  "language_info": {
   "codemirror_mode": {
    "name": "ipython",
    "version": 3
   },
   "file_extension": ".py",
   "mimetype": "text/x-python",
   "name": "python",
   "nbconvert_exporter": "python",
   "pygments_lexer": "ipython3",
   "version": "3.13.2"
  }
 },
 "nbformat": 4,
 "nbformat_minor": 5
}
